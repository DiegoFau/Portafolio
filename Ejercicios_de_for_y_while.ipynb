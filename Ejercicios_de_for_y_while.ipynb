{
  "nbformat": 4,
  "nbformat_minor": 0,
  "metadata": {
    "colab": {
      "provenance": [],
      "authorship_tag": "ABX9TyOeBx6WXbhcqePrBW3gEE6x",
      "include_colab_link": true
    },
    "kernelspec": {
      "name": "python3",
      "display_name": "Python 3"
    },
    "language_info": {
      "name": "python"
    }
  },
  "cells": [
    {
      "cell_type": "markdown",
      "metadata": {
        "id": "view-in-github",
        "colab_type": "text"
      },
      "source": [
        "<a href=\"https://colab.research.google.com/github/DiegoFau/Portafolio/blob/main/Ejercicios_de_for_y_while.ipynb\" target=\"_parent\"><img src=\"https://colab.research.google.com/assets/colab-badge.svg\" alt=\"Open In Colab\"/></a>"
      ]
    },
    {
      "cell_type": "markdown",
      "source": [
        "#Ejercicios de for y while"
      ],
      "metadata": {
        "id": "VOAMhZey3uBS"
      }
    },
    {
      "cell_type": "code",
      "execution_count": 3,
      "metadata": {
        "colab": {
          "base_uri": "https://localhost:8080/"
        },
        "id": "DzZGv6nm3k2_",
        "outputId": "2527613f-8c81-4adf-cf55-1e34f4ec4f40"
      },
      "outputs": [
        {
          "output_type": "stream",
          "name": "stdout",
          "text": [
            "Juan\n",
            "Maria\n",
            "Carlos\n",
            "Ana\n",
            "Beatriz\n"
          ]
        }
      ],
      "source": [
        "#1 Recorrer e imprimir los iterables de la lista\n",
        "\n",
        "clientes = [\"Juan\", \"Maria\", \"Carlos\", \"Ana\", \"Beatriz\"]\n",
        "\n",
        "for c in clientes:\n",
        "  print(c)"
      ]
    },
    {
      "cell_type": "code",
      "source": [
        "#2. Corregir bucle infinito\n",
        "\n",
        "contador = 0\n",
        "\n",
        "while contador < 10:\n",
        "\n",
        "  contador +=1 #dato faltante\n",
        "  print(\"Procesando datos...\")\n",
        ""
      ],
      "metadata": {
        "colab": {
          "base_uri": "https://localhost:8080/"
        },
        "id": "8x6XTO4c4Lcc",
        "outputId": "c5a65ec2-82ad-4ab9-e27f-42575cba0955"
      },
      "execution_count": 6,
      "outputs": [
        {
          "output_type": "stream",
          "name": "stdout",
          "text": [
            "Procesando datos...\n",
            "Procesando datos...\n",
            "Procesando datos...\n",
            "Procesando datos...\n",
            "Procesando datos...\n",
            "Procesando datos...\n",
            "Procesando datos...\n",
            "Procesando datos...\n",
            "Procesando datos...\n",
            "Procesando datos...\n"
          ]
        }
      ]
    },
    {
      "cell_type": "code",
      "source": [
        "#3. Repetir mensaje 5 veces - correcta\n",
        "\n",
        "for i in range (5): # Cuando sabemos el rango, usamos for en caso contrario while\n",
        "  print('¡Bienvenido a Buscante!')"
      ],
      "metadata": {
        "colab": {
          "base_uri": "https://localhost:8080/"
        },
        "id": "4il9XbT85fjW",
        "outputId": "afa46234-93a9-461e-eed9-1f8a128c5d4c"
      },
      "execution_count": 12,
      "outputs": [
        {
          "output_type": "stream",
          "name": "stdout",
          "text": [
            "¡Bienvenido a Buscante!\n",
            "¡Bienvenido a Buscante!\n",
            "¡Bienvenido a Buscante!\n",
            "¡Bienvenido a Buscante!\n",
            "¡Bienvenido a Buscante!\n"
          ]
        }
      ]
    },
    {
      "cell_type": "code",
      "source": [
        "#3. Repetir mensaje 5 veces\n",
        "\n",
        "contador = 0\n",
        "\n",
        "while contador < 5:\n",
        "\n",
        "  contador += 1\n",
        "  print('¡Bienvenido a Buscante!')\n"
      ],
      "metadata": {
        "colab": {
          "base_uri": "https://localhost:8080/"
        },
        "id": "NcmFpusn482I",
        "outputId": "9c0f554f-3d06-4dc8-db46-0c7292b94cba"
      },
      "execution_count": 9,
      "outputs": [
        {
          "output_type": "stream",
          "name": "stdout",
          "text": [
            "¡Bienvenido a Buscante!\n",
            "¡Bienvenido a Buscante!\n",
            "¡Bienvenido a Buscante!\n",
            "¡Bienvenido a Buscante!\n",
            "¡Bienvenido a Buscante!\n"
          ]
        }
      ]
    },
    {
      "cell_type": "code",
      "source": [
        "#4. Suma total de valores\n",
        "\n",
        "valores = [10, 20, 30, 40, 50]\n",
        "\n",
        "total = 0\n",
        "\n",
        "for v in valores:\n",
        "  total += v\n",
        "\n",
        "print(f'La suma total es: {total}')"
      ],
      "metadata": {
        "colab": {
          "base_uri": "https://localhost:8080/"
        },
        "id": "1pO4aVmH6HLd",
        "outputId": "7887c62a-4200-4adb-8581-16122ce36ac3"
      },
      "execution_count": 15,
      "outputs": [
        {
          "output_type": "stream",
          "name": "stdout",
          "text": [
            "La suma total es: 150\n"
          ]
        }
      ]
    },
    {
      "cell_type": "code",
      "source": [
        "#4. Suma total de valores\n",
        "\n",
        "valores = [10, 20, 30, 40, 50]\n",
        "\n",
        "print(f'La suma total es: {sum(valores)}')"
      ],
      "metadata": {
        "colab": {
          "base_uri": "https://localhost:8080/"
        },
        "id": "YwqqNK6l527C",
        "outputId": "d67ff51e-5393-4c62-f9a7-a49cba748d2f"
      },
      "execution_count": 13,
      "outputs": [
        {
          "output_type": "stream",
          "name": "stdout",
          "text": [
            "La suma total es: 150\n"
          ]
        }
      ]
    },
    {
      "cell_type": "code",
      "source": [
        "#5. Recorrer lista, en caso de none reemplazar el texto por \" Proyecto Ausente\"\n",
        "\n",
        "proyectos = [\"sitio web\", \"juego\", \"análisis de datos\", None, \"aplicativo móvil\"]\n",
        "\n",
        "for p in proyectos:\n",
        "  if p is None:\n",
        "    print(\"proyecto ausente\")\n",
        "  else:\n",
        "    print(p)"
      ],
      "metadata": {
        "colab": {
          "base_uri": "https://localhost:8080/"
        },
        "id": "Eyyt0rMG6ZJC",
        "outputId": "174a3917-2061-4a29-f666-a465f0ae83c6"
      },
      "execution_count": 16,
      "outputs": [
        {
          "output_type": "stream",
          "name": "stdout",
          "text": [
            "sitio web\n",
            "juego\n",
            "análisis de datos\n",
            "Proyecto Ausente\n",
            "aplicativo móvil\n"
          ]
        }
      ]
    },
    {
      "cell_type": "code",
      "source": [
        "#5. Recorrer lista, en caso de none reemplazar el texto por \" Proyecto Ausente\" - Reemplazando directamente en la lista\n",
        "\n",
        "proyectos = [\"sitio web\", \"juego\", \"análisis de datos\", None, \"aplicativo móvil\"]\n",
        "\n",
        "for i, p in enumerate(proyectos):  # i es el índice, p es el valor\n",
        "    if p is None:\n",
        "        proyectos[i] = \"Proyecto Ausente\"  # Reemplazar el valor None por \"Proyecto Ausente\"\n",
        "\n",
        "print(proyectos)\n"
      ],
      "metadata": {
        "colab": {
          "base_uri": "https://localhost:8080/"
        },
        "id": "PaNk5GdH7-Sr",
        "outputId": "9d7fb792-ddcc-43b6-9816-d6f36fb6e025"
      },
      "execution_count": 17,
      "outputs": [
        {
          "output_type": "stream",
          "name": "stdout",
          "text": [
            "['sitio web', 'juego', 'análisis de datos', 'Proyecto Ausente', 'aplicativo móvil']\n"
          ]
        }
      ]
    },
    {
      "cell_type": "code",
      "source": [
        "#5. Recorrer lista, en caso de none reemplazar el texto por \" Proyecto Ausente\" - list comprehensions\n",
        "\n",
        "proyectos = [\"sitio web\", \"juego\", \"análisis de datos\", None, \"aplicativo móvil\"]\n",
        "\n",
        "# expresión_si_verdadero if condición else expresión_si_falso for elemento in lista\n",
        "\n",
        "proyectos = [p if p is not None else \"Proyecto Ausente\" for p in proyectos]\n",
        "\n",
        "print(proyectos)"
      ],
      "metadata": {
        "id": "bfjiSHYe8fVI"
      },
      "execution_count": null,
      "outputs": []
    },
    {
      "cell_type": "code",
      "source": [
        "#6. Recorer lista, buscando \"El Hobbit\", entregar msj libro encontrado\n",
        "\n",
        "libros = [\"1984\", \"Cien años de soledad\", \"El Principito\", \"El Hobbit\", \"Orgullo y Prejuicio\"]\n",
        "\n",
        "for libro in libros:\n",
        "  if libro == \"El Hobbit\":\n",
        "    print(\"Libro encontrado\")\n",
        "    break\n",
        "else:\n",
        "  print(\"Libro no encontrado\")"
      ],
      "metadata": {
        "colab": {
          "base_uri": "https://localhost:8080/"
        },
        "id": "b_9PBYX7_QPl",
        "outputId": "5bc99970-69af-4f0f-906e-b877bd0b7325"
      },
      "execution_count": 2,
      "outputs": [
        {
          "output_type": "stream",
          "name": "stdout",
          "text": [
            "Libro encontrado\n"
          ]
        }
      ]
    },
    {
      "cell_type": "code",
      "source": [
        "#7. Venta de inventario 5 un, hasta 0 msj \"inventario agotado\"\n",
        "\n",
        "inventario = 5\n",
        "\n",
        "while inventario > 0:\n",
        "  print(f'Venta realizada, stock {inventario}')\n",
        "  inventario -= 1\n",
        "\n",
        "print('Inventario Agotado')"
      ],
      "metadata": {
        "colab": {
          "base_uri": "https://localhost:8080/"
        },
        "id": "bk_n7HzwaGZh",
        "outputId": "a253504d-f485-41c9-9867-440f4ef82b16"
      },
      "execution_count": 8,
      "outputs": [
        {
          "output_type": "stream",
          "name": "stdout",
          "text": [
            "Venta realizada, stock 5\n",
            "Venta realizada, stock 4\n",
            "Venta realizada, stock 3\n",
            "Venta realizada, stock 2\n",
            "Venta realizada, stock 1\n",
            "Inventario Agotado\n"
          ]
        }
      ]
    },
    {
      "cell_type": "code",
      "source": [
        "#7. Venta de inventario 5 un, hasta 0 msj \"inventario agotado\"\n",
        "\n",
        "inventario = 5\n",
        "\n",
        "for i in range(5):\n",
        "  print(f'Venta realizada, stock {inventario}')\n",
        "  inventario -= 1\n",
        "  if inventario == 0:\n",
        "    print(\"Inventario agotado\")\n",
        "    break\n"
      ],
      "metadata": {
        "colab": {
          "base_uri": "https://localhost:8080/"
        },
        "id": "1gvdsp0UZAtE",
        "outputId": "5565e2e6-b7b3-4419-8687-f033851a4dcb"
      },
      "execution_count": 7,
      "outputs": [
        {
          "output_type": "stream",
          "name": "stdout",
          "text": [
            "Venta realizada, stock 5\n",
            "Venta realizada, stock 4\n",
            "Venta realizada, stock 3\n",
            "Venta realizada, stock 2\n",
            "Venta realizada, stock 1\n",
            "Inventario agotado\n"
          ]
        }
      ]
    },
    {
      "cell_type": "code",
      "source": [
        "#8. Cuenta regresiva desde 10, n pares un msj, n impares otro msj y msj final \"aprovecha la promocion\"\n",
        "\n",
        "contador = 10\n",
        "\n",
        "while contador > 0:\n",
        "  if contador % 2 == 0:\n",
        "    print(f'Faltan solo {contador} segundos - ¡No pierdas esta oportunidad!')\n",
        "  else:\n",
        "    print(f'La cuenta continúa: {contador} segundos restantes')\n",
        "  contador -= 1 # al final para que descuente en caso de if y else\n",
        "\n",
        "print('!Aprovecha la promoción ahora!') # cuando se cumplio todo lo de arriva, osea llegamos a 0. se ejecuta esta linea\n"
      ],
      "metadata": {
        "colab": {
          "base_uri": "https://localhost:8080/"
        },
        "id": "TdQnEZZXb82z",
        "outputId": "d7ff8e32-640f-4578-8c97-b0eaf9bd7d15"
      },
      "execution_count": 12,
      "outputs": [
        {
          "output_type": "stream",
          "name": "stdout",
          "text": [
            "Faltan solo 10 segundos - ¡No pierdas esta oportunidad!\n",
            "La cuenta continúa: 9 segundos restantes\n",
            "Faltan solo 8 segundos - ¡No pierdas esta oportunidad!\n",
            "La cuenta continúa: 7 segundos restantes\n",
            "Faltan solo 6 segundos - ¡No pierdas esta oportunidad!\n",
            "La cuenta continúa: 5 segundos restantes\n",
            "Faltan solo 4 segundos - ¡No pierdas esta oportunidad!\n",
            "La cuenta continúa: 3 segundos restantes\n",
            "Faltan solo 2 segundos - ¡No pierdas esta oportunidad!\n",
            "La cuenta continúa: 1 segundos restantes\n",
            "!Aprovecha la promoción ahora!\n"
          ]
        }
      ]
    },
    {
      "cell_type": "code",
      "source": [
        "#8. Cuenta regresiva desde 10, n pares un msj, n impares otro msj y msj final \"aprovecha la promocion\"\n",
        "\n",
        "for segundos in range(10, 0, -1): #range(inicio, fin, paso) mejor opcion para contadoes\n",
        "  if segundos % 2 == 0:\n",
        "    print(f'Faltan solo {segundos} segundos - ¡No pierdas esta oportunidad!')\n",
        "  else:\n",
        "    print(f'La cuenta continúa: {segundos} segundos restantes')\n",
        "\n",
        "print('¡Aprovecha la promoción ahora!')"
      ],
      "metadata": {
        "colab": {
          "base_uri": "https://localhost:8080/"
        },
        "id": "YbkEEruSdjan",
        "outputId": "00ab5777-bac1-4f2a-f60d-16b188cc5a3e"
      },
      "execution_count": 13,
      "outputs": [
        {
          "output_type": "stream",
          "name": "stdout",
          "text": [
            "Faltan solo 10 segundos - ¡No pierdas esta oportunidad!\n",
            "La cuenta continúa: 9 segundos restantes\n",
            "Faltan solo 8 segundos - ¡No pierdas esta oportunidad!\n",
            "La cuenta continúa: 7 segundos restantes\n",
            "Faltan solo 6 segundos - ¡No pierdas esta oportunidad!\n",
            "La cuenta continúa: 5 segundos restantes\n",
            "Faltan solo 4 segundos - ¡No pierdas esta oportunidad!\n",
            "La cuenta continúa: 3 segundos restantes\n",
            "Faltan solo 2 segundos - ¡No pierdas esta oportunidad!\n",
            "La cuenta continúa: 1 segundos restantes\n",
            "¡Aprovecha la promoción ahora!\n"
          ]
        }
      ]
    },
    {
      "cell_type": "code",
      "source": [
        "#9. Revisar y mostrar stock\n",
        "\n",
        "libros = [\n",
        "    {\"nombre\": \"1984\", \"stock\": 5},\n",
        "    {\"nombre\": \"Dom Casmurro\", \"stock\": 0},\n",
        "    {\"nombre\": \"El Principito\", \"stock\": 3},\n",
        "    {\"nombre\": \"El Hobbit\", \"stock\": 0},\n",
        "    {\"nombre\": \"Orgullo y Prejuicio\", \"stock\": 2}\n",
        "]\n",
        "\n",
        "for libro in libros:\n",
        "  if libro['stock'] == 0:\n",
        "    print(f'El libro {libro['nombre']} esta agotado')\n",
        "  else:\n",
        "    print(f'El libro{libro['nombre']} esta disponible y su stock es {libro['stock']}')\n"
      ],
      "metadata": {
        "colab": {
          "base_uri": "https://localhost:8080/"
        },
        "id": "649SwmtvefVs",
        "outputId": "fe624701-637c-4e56-cff8-a10833f2a9d7"
      },
      "execution_count": 17,
      "outputs": [
        {
          "output_type": "stream",
          "name": "stdout",
          "text": [
            "El libro1984 esta disponible y su stock es 5\n",
            "El libro Dom Casmurro esta agotado\n",
            "El libroEl Principito esta disponible y su stock es 3\n",
            "El libro El Hobbit esta agotado\n",
            "El libroOrgullo y Prejuicio esta disponible y su stock es 2\n"
          ]
        }
      ]
    },
    {
      "cell_type": "code",
      "source": [
        "#9. Revisar y mostrar solo los con stock\n",
        "\n",
        "libros = [\n",
        "    {\"nombre\": \"1984\", \"stock\": 5},\n",
        "    {\"nombre\": \"Dom Casmurro\", \"stock\": 0},\n",
        "    {\"nombre\": \"El Principito\", \"stock\": 3},\n",
        "    {\"nombre\": \"El Hobbit\", \"stock\": 0},\n",
        "    {\"nombre\": \"Orgullo y Prejuicio\", \"stock\": 2}\n",
        "]\n",
        "\n",
        "for libro in libros:\n",
        "  if libro['stock'] > 0: #solo si tiene stock\n",
        "    print(f'El libro{libro['nombre']} esta disponible y su stock es {libro['stock']}')\n"
      ],
      "metadata": {
        "colab": {
          "base_uri": "https://localhost:8080/"
        },
        "id": "YMPGuFIpgjqS",
        "outputId": "5c2171ae-af8b-4ae7-c4ad-da03db8c5b04"
      },
      "execution_count": 18,
      "outputs": [
        {
          "output_type": "stream",
          "name": "stdout",
          "text": [
            "El libro1984 esta disponible y su stock es 5\n",
            "El libroEl Principito esta disponible y su stock es 3\n",
            "El libroOrgullo y Prejuicio esta disponible y su stock es 2\n"
          ]
        }
      ]
    },
    {
      "cell_type": "code",
      "source": [
        "#9. Revisar y mostrar solo los con stock - hacemos el salto con el continue\n",
        "\n",
        "libros = [\n",
        "    {\"nombre\": \"1984\", \"stock\": 5},\n",
        "    {\"nombre\": \"Dom Casmurro\", \"stock\": 0},\n",
        "    {\"nombre\": \"El Principito\", \"stock\": 3},\n",
        "    {\"nombre\": \"El Hobbit\", \"stock\": 0},\n",
        "    {\"nombre\": \"Orgullo y Prejuicio\", \"stock\": 2}\n",
        "]\n",
        "\n",
        "for libro in libros:\n",
        "    if libro[\"stock\"] == 0:\n",
        "        continue # Nos saltamos el libro cuyo stock es 0\n",
        "    print(f\"Libro disponible: {libro['nombre']}\")"
      ],
      "metadata": {
        "id": "hvic0w-fhAVh"
      },
      "execution_count": null,
      "outputs": []
    },
    {
      "cell_type": "code",
      "source": [
        "#10. Registro de usuraio y contraseña (U 5 caracteres y C 8 Caracteres)\n",
        "\n",
        "while True: #separamos los while, para que cada paso se repita hasta que sea ingresado correctamente\n",
        "\n",
        "    nombre_usuario = input(\"Digite su nombre de usuario: \")\n",
        "\n",
        "    if len(nombre_usuario) < 5:\n",
        "        print(\"El nombre de usuario debe tener al menos 5 caracteres.\")\n",
        "    else:\n",
        "      break\n",
        "\n",
        "while True: #separamos los while, para que cada paso se repita hasta que sea ingresado correctamente\n",
        "\n",
        "  contraseña = input(\"Digite su contraseña: \")\n",
        "  if len(contraseña) < 8:\n",
        "        print(\"La contraseña debe tener al menos 8 caracteres.\")\n",
        "  else:\n",
        "      break\n",
        "\n",
        "\n",
        "print(\"¡Registro realizado con éxito!\")\n",
        "\n"
      ],
      "metadata": {
        "colab": {
          "base_uri": "https://localhost:8080/"
        },
        "id": "85ERLRJuha4W",
        "outputId": "c6082265-9130-480a-fc3b-588d960d676b"
      },
      "execution_count": 34,
      "outputs": [
        {
          "output_type": "stream",
          "name": "stdout",
          "text": [
            "Digite su nombre de usuario: Dasd\n",
            "El nombre de usuario debe tener al menos 5 caracteres.\n",
            "Digite su nombre de usuario: Diego\n",
            "Digite su contraseña: 123\n",
            "La contraseña debe tener al menos 8 caracteres.\n",
            "Digite su contraseña: 123214124123\n",
            "¡Registro realizado con éxito!\n"
          ]
        }
      ]
    }
  ]
}