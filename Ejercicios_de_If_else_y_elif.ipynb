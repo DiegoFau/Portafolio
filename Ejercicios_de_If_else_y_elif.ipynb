{
  "nbformat": 4,
  "nbformat_minor": 0,
  "metadata": {
    "colab": {
      "provenance": [],
      "authorship_tag": "ABX9TyOsrlcXI2HAkfGM58/8pPGl",
      "include_colab_link": true
    },
    "kernelspec": {
      "name": "python3",
      "display_name": "Python 3"
    },
    "language_info": {
      "name": "python"
    }
  },
  "cells": [
    {
      "cell_type": "markdown",
      "metadata": {
        "id": "view-in-github",
        "colab_type": "text"
      },
      "source": [
        "<a href=\"https://colab.research.google.com/github/DiegoFau/Portafolio/blob/main/Ejercicios_de_If_else_y_elif.ipynb\" target=\"_parent\"><img src=\"https://colab.research.google.com/assets/colab-badge.svg\" alt=\"Open In Colab\"/></a>"
      ]
    },
    {
      "cell_type": "markdown",
      "source": [
        "#Practica if, else, elif"
      ],
      "metadata": {
        "id": "TsvVImMQG66x"
      }
    },
    {
      "cell_type": "code",
      "execution_count": 54,
      "metadata": {
        "colab": {
          "base_uri": "https://localhost:8080/"
        },
        "id": "Ueu4o74hG45-",
        "outputId": "6ad86bf5-2354-4d53-c3a3-d31b5bca3309"
      },
      "outputs": [
        {
          "output_type": "stream",
          "name": "stdout",
          "text": [
            "Ingrese la cantidad de productos Manzanas 10\n",
            "Ingrese la cantidad de productos Platanos 20\n",
            "El producto con mayor venta es Platanos (20), y el menos vendido es Manzanas (10).\n"
          ]
        }
      ],
      "source": [
        "#1. Ingresar datos, definir cual es el mayor\n",
        "productos = ['Manzanas', 'Platanos']\n",
        "Ventas = [int(input(f'Ingrese la cantidad de productos {producto} ')) for producto in productos ]\n",
        "\n",
        "maximo = max(Ventas)\n",
        "minimo = min(Ventas)\n",
        "\n",
        "producto_max = productos[Ventas.index(maximo)]\n",
        "producto_min = productos[Ventas.index(minimo)]\n",
        "\n",
        "mensaje = (f\"Hubo un empate: ambos productos {\" y \".join(productos)} vendieron {maximo} unidades.\"\n",
        "    if maximo == minimo\n",
        "    else\n",
        "        f\"El producto con mayor venta es {producto_max} ({maximo}), \"\n",
        "         f\"y el menos vendido es {producto_min} ({minimo}).\")\n",
        "\n",
        "print(mensaje)"
      ]
    },
    {
      "cell_type": "code",
      "source": [
        "#1. Forma tradicional\n",
        "\n",
        "manzanas = int(input(\"Digite la cantidad de manzanas vendidas: \"))\n",
        "platanos = int(input(\"Digite la cantidad de plátanos vendidos: \"))\n",
        "\n",
        "if manzanas > platanos:\n",
        "    print(\"Las manzanas tuvieron más ventas.\")\n",
        "elif platanos > manzanas:\n",
        "    print(\"Los plátanos tuvieron más ventas.\")\n",
        "else:\n",
        "    print(\"Las ventas fueron iguales.\")"
      ],
      "metadata": {
        "id": "IYe7J64zN6Wc"
      },
      "execution_count": null,
      "outputs": []
    },
    {
      "cell_type": "code",
      "source": [
        "#2. Entrada de T con mensaje si supera los 25 - usando una expresión condicional inline\n",
        "\n",
        "temperatura = float(input('Ingrese la temperatura actual: '))\n",
        "\n",
        "print(\n",
        "    'La temperatura supera el maximo pemitido'\n",
        "    if temperatura > 25\n",
        "    else\n",
        "    'La temperatura esta dentro del rango apropiado')"
      ],
      "metadata": {
        "colab": {
          "base_uri": "https://localhost:8080/"
        },
        "id": "_uwdkRBKImkG",
        "outputId": "1d1f138f-67e8-43d3-9827-5095a83a68b5"
      },
      "execution_count": 20,
      "outputs": [
        {
          "output_type": "stream",
          "name": "stdout",
          "text": [
            "Ingrese la temperatura actual: 22\n",
            "La temperatura esta dentro del rango apropiado\n"
          ]
        }
      ]
    },
    {
      "cell_type": "code",
      "source": [
        "#2. Entrada de T con mensaje si supera los 25 - usando un diccionario de resultados\n",
        "\n",
        "temperatura = float(input('Ingrese la temperatura actual: '))\n",
        "\n",
        "mensaje = {\n",
        "    True: 'La temperatura esta sobre el maximo permitido',\n",
        "    False: 'La temperatura esta dentro del rango apropiado'\n",
        "}\n",
        "\n",
        "print(mensaje[temperatura > 25])"
      ],
      "metadata": {
        "colab": {
          "base_uri": "https://localhost:8080/"
        },
        "id": "H8xFCD4mRLjI",
        "outputId": "51828019-c33b-4a92-ac21-d266fcda0b31"
      },
      "execution_count": 25,
      "outputs": [
        {
          "output_type": "stream",
          "name": "stdout",
          "text": [
            "Ingrese la temperatura actual: 33\n",
            "La temperatura esta sobre el maximo permitido\n"
          ]
        }
      ]
    },
    {
      "cell_type": "code",
      "source": [
        "#2. Entrada de T con mensaje si supera los 25 - usando lambda\n",
        "\n",
        "temperatura = float(input('Ingrese la temperatura actual: '))\n",
        "\n",
        "alerta = lambda t: ('La temperatura supera el maximo permitido'\n",
        "  if t > 25\n",
        "  else 'La temperatura esta en rangos normales')\n",
        "\n",
        "print(alerta(temperatura))"
      ],
      "metadata": {
        "colab": {
          "base_uri": "https://localhost:8080/"
        },
        "id": "1M1ruIDlSFhA",
        "outputId": "a5774427-3210-449e-daa6-76354350c4a2"
      },
      "execution_count": 27,
      "outputs": [
        {
          "output_type": "stream",
          "name": "stdout",
          "text": [
            "Ingrese la temperatura actual: 55\n",
            "La temperatura supera el maximo permitido\n"
          ]
        }
      ]
    },
    {
      "cell_type": "code",
      "source": [
        "3# Actividades A, B, C, con ingreso de datos, sin valores negativos msj error y con total\n",
        "\n",
        "actividades = ['A', 'B', 'C']\n",
        "datos = [int(input(f'Ingrese los dias de la actividad {actividad} ')) for actividad in actividades]\n",
        "\n",
        "total = sum(datos)\n",
        "\n",
        "mensaje = (\n",
        "    'No puedes ingresar valores negativos'\n",
        "    if any(valor < 0 for valor in datos)\n",
        "    else\n",
        "    f'El total de dias de las actividades es:{total} ')\n",
        "\n",
        "print(mensaje)"
      ],
      "metadata": {
        "colab": {
          "base_uri": "https://localhost:8080/"
        },
        "id": "wXe20NlTSw38",
        "outputId": "226f93d3-292e-4956-9070-1d7ea4d3ae4f"
      },
      "execution_count": 35,
      "outputs": [
        {
          "output_type": "stream",
          "name": "stdout",
          "text": [
            "Ingrese los dias de la actividad A 20\n",
            "Ingrese los dias de la actividad B -10\n",
            "Ingrese los dias de la actividad C 30\n",
            "No puedes ingresar valores negativos\n"
          ]
        }
      ]
    },
    {
      "cell_type": "code",
      "source": [
        "3# Actividades A, B, C, con ingreso de datos, sin valores negativos msj error y con total - con if\n",
        "\n",
        "actividad_A = int(input(\"Informe los días para la actividad A: \"))\n",
        "actividad_B = int(input(\"Informe los días para la actividad B: \"))\n",
        "actividad_C = int(input(\"Informe los días para la actividad C: \"))\n",
        "\n",
        "if actividad_A < 0 or actividad_B < 0 or actividad_C < 0:\n",
        "    print(\"Error: Los días no pueden ser negativos.\")\n",
        "else:\n",
        "    tiempo_total = actividad_A + actividad_B + actividad_C\n",
        "    print(f\"El tiempo total del proyecto es de {tiempo_total} días.\")\n"
      ],
      "metadata": {
        "id": "rDX4iVyGWKrR"
      },
      "execution_count": null,
      "outputs": []
    },
    {
      "cell_type": "code",
      "source": [
        "#4. Calculo de IMC, ingresar datos de peso y altura\n",
        "variables = ['peso', 'altura']\n",
        "unidades = ['kg', 'mts']\n",
        "\n",
        "ingreso = [float(input(f'Ingrese los valores de su {datos} en {un}: ')) for datos, un in zip(variables, unidades)]\n",
        "\n",
        "peso, altura = ingreso #desempaquetar para poder usar\n",
        "\n",
        "IMC = peso / altura**2\n",
        "\n",
        "mensaje = (\n",
        "\n",
        "    f'Su IMC es {IMC:.2f} y se considera bajo'\n",
        "    if IMC < 18.5\n",
        "    else (\n",
        "\n",
        "      f'Su IMC es {IMC:.2f} y se considera  normal'\n",
        "      if 18.5 <= IMC <25\n",
        "      else\n",
        "        f'Su IMC es {IMC:.2f} y se considera  alto'))\n",
        "\n",
        "print(mensaje)\n"
      ],
      "metadata": {
        "colab": {
          "base_uri": "https://localhost:8080/"
        },
        "id": "ETjk22_GWX7_",
        "outputId": "99e987bd-47eb-4c81-bbec-6c0ed44b7222"
      },
      "execution_count": 49,
      "outputs": [
        {
          "output_type": "stream",
          "name": "stdout",
          "text": [
            "Ingrese los valores de su peso en kg: 84\n",
            "Ingrese los valores de su altura en m: 1.79\n",
            "Su IMC es 26.22 y se considera  alto\n"
          ]
        }
      ]
    },
    {
      "cell_type": "code",
      "source": [
        "#4. Tradicional\n",
        "\n",
        "peso = float(input(\"Digite su peso (kg): \"))\n",
        "altura = float(input(\"Digite su altura (m): \"))\n",
        "\n",
        "imc = peso / (altura ** 2)\n",
        "print(f\"Su IMC es: {imc:.2f}\")\n",
        "\n",
        "if imc < 18.5:\n",
        "    print(\"Estás por debajo del peso.\")\n",
        "elif imc < 25:\n",
        "    print(\"Tienes un peso normal.\")\n",
        "else:\n",
        "    print(\"Estás por encima del peso.\")\n"
      ],
      "metadata": {
        "id": "QeUrvWnndcCy"
      },
      "execution_count": null,
      "outputs": []
    },
    {
      "cell_type": "code",
      "source": [
        "#5 Beneficios si ingresos menores a 2000 y al menos un hijo\n",
        "\n",
        "datos = ['ingresos', 'hijos']\n",
        "ingreso = [float(input(f'Entrege la infromacion sobre {dato} ')) for dato in datos]\n",
        "\n",
        "ingresos, hijos = ingreso #desempaquetar para poder usar\n",
        "\n",
        "mensaje = (\n",
        "    f'Usted, tiene derecho al beneficio social'\n",
        "    if 2000 < ingresos and 1 < hijos\n",
        "    else\n",
        "    'Usted no cumple con los requisitos'\n",
        ")\n",
        "\n",
        "print(mensaje)"
      ],
      "metadata": {
        "colab": {
          "base_uri": "https://localhost:8080/"
        },
        "id": "X1zWSCm_fmpe",
        "outputId": "ca25b91f-47e5-4b0a-c0bb-f8695b9e50b8"
      },
      "execution_count": 53,
      "outputs": [
        {
          "output_type": "stream",
          "name": "stdout",
          "text": [
            "Entrege la infromacion sobre ingresos 1500\n",
            "Entrege la infromacion sobre hijos 0\n",
            "Usted no cumple con los requisitos\n"
          ]
        }
      ]
    },
    {
      "cell_type": "code",
      "source": [
        "#5 Beneficios si ingresos menores a 2000 y al menos un hijo - Forma Tradicional\n",
        "\n",
        "pythonCopiarEditaringresos = float(input(\"Digite sus ingresos mensuales: \"))\n",
        "hijos = int(input(\"Digite la cantidad de hijos/as: \"))\n",
        "\n",
        "if ingresos <= 2000 and hijos >= 1:\n",
        "    print(\"Tiene derecho al beneficio.\")\n",
        "else:\n",
        "    print(\"No tiene derecho al beneficio.\")\n"
      ],
      "metadata": {
        "id": "-fMqTLFYhdWH"
      },
      "execution_count": null,
      "outputs": []
    },
    {
      "cell_type": "code",
      "source": [
        "#6. Puntuacion y años de trabajo, >7 y >5 años ascenso, >7 y <5 buen trabajo <7 debe mejorar\n",
        "\n",
        "variables = ['puntuacion', 'años']\n",
        "ingreso = [float(input(f'Ingrese la infromacion sobre {dato} ')) for dato in variables]\n",
        "\n",
        "puntuacion, años = ingreso\n",
        "\n",
        "mensaje = (\n",
        "    'Usted puede ser ascendido'\n",
        "    if puntuacion > 7 and años > 5\n",
        "    else (\n",
        "        'Usted ha logrado un buen desempeño'\n",
        "        if puntuacion > 7 and años <5\n",
        "        else\n",
        "        'Usted debe mejorar'\n",
        "))\n",
        "\n",
        "print(mensaje)"
      ],
      "metadata": {
        "colab": {
          "base_uri": "https://localhost:8080/"
        },
        "id": "AadfYwKriQxD",
        "outputId": "2f65561a-16bb-4b10-d15c-92af8a2c88f6"
      },
      "execution_count": 61,
      "outputs": [
        {
          "output_type": "stream",
          "name": "stdout",
          "text": [
            "Ingrese la infromacion sobre puntuacion 5\n",
            "Ingrese la infromacion sobre años 7\n",
            "Usted debe mejorar\n"
          ]
        }
      ]
    },
    {
      "cell_type": "code",
      "source": [
        "#6. Puntuacion y años de trabajo, >7 y >5 años ascenso, >7 y <5 buen trabajo <7 debe mejorar - Forma tradicional\n",
        "\n",
        "puntuacion = float(input(\"Ingrese la puntuación del desempeño (0 a 10): \"))\n",
        "anios = int(input(\"Ingrese la cantidad de años trabajados: \"))\n",
        "\n",
        "if puntuacion >= 7:\n",
        "    if anios > 5:\n",
        "        print(\"Elegible para ascenso.\")\n",
        "    else:\n",
        "        print(\"Buen desempeño, sigue así.\")\n",
        "else:\n",
        "    print(\"Necesita mejorar.\")\n"
      ],
      "metadata": {
        "id": "2YaUIOX-kPEJ"
      },
      "execution_count": null,
      "outputs": []
    },
    {
      "cell_type": "code",
      "source": [
        "#7. Ingresar numero, divisible por 3 o 5 y si divisible por ambos\n",
        "\n",
        "numero = int(input('Ingrese un numero: '))\n",
        "\n",
        "mensaje = (\n",
        "    'El numero es divisible por 3 y 5'\n",
        "    if numero % 3 == 0 and numero % 5 == 0\n",
        "    else (\n",
        "        'El numero es divisible por 3'\n",
        "        if numero % 3 == 0\n",
        "        else (\n",
        "            'El numero es divisible por 5'\n",
        "            if numero % 5 == 0\n",
        "            else\n",
        "            'El numero no es divisible ni por 3 ni por 5')\n",
        "        )\n",
        "    )\n",
        ")\n",
        "\n",
        "print(mensaje)"
      ],
      "metadata": {
        "colab": {
          "base_uri": "https://localhost:8080/"
        },
        "id": "gCXqekLRka--",
        "outputId": "5120ec67-70ad-4805-9702-49ac177e8f48"
      },
      "execution_count": 65,
      "outputs": [
        {
          "output_type": "stream",
          "name": "stdout",
          "text": [
            "Ingrese un numero: 30\n",
            "El numero es divisible por 3 y 5\n"
          ]
        }
      ]
    },
    {
      "cell_type": "code",
      "source": [
        "#7. Ingresar numero, divisible por 3 o 5 y si divisible por ambos\n",
        "\n",
        "numero = int(input('Ingrese un numero: '))\n",
        "\n",
        "#Escrito en formato inline if / ternary operator\n",
        "mensaje = (\n",
        "    'El numero es divisible por 3 y 5'\n",
        "    if numero % 3 == 0 and numero % 5 == 0 else\n",
        "    'El numero es divisible por 3'\n",
        "    if numero % 3 == 0 else\n",
        "    'El numero es divisible por 5'\n",
        "    if numero % 5 == 0 else\n",
        "    'El numero no es divisible ni por 3 ni por 5'\n",
        ")"
      ],
      "metadata": {
        "id": "mutTrT_VlMWT"
      },
      "execution_count": null,
      "outputs": []
    },
    {
      "cell_type": "code",
      "source": [
        "#7. Ingresar numero, divisible por 3 o 5 y si divisible por ambos - Tradicional\n",
        "\n",
        "numero = int(input(\"Ingresa un número entero: \"))\n",
        "\n",
        "if numero % 3 == 0 and numero % 5 == 0:\n",
        "    print(\"¡Número mágico!\")\n",
        "elif numero % 3 == 0:\n",
        "    print(\"Divisible por 3\")\n",
        "elif numero % 5 == 0:\n",
        "    print(\"Divisible por 5\")\n",
        "else:\n",
        "    print(\"No es un número mágico\")\n"
      ],
      "metadata": {
        "id": "VdrYv_7OoMqw"
      },
      "execution_count": null,
      "outputs": []
    },
    {
      "cell_type": "code",
      "source": [
        "#8."
      ],
      "metadata": {
        "id": "XSGBQiqVmjdN"
      },
      "execution_count": null,
      "outputs": []
    }
  ]
}